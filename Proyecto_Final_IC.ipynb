{
  "nbformat": 4,
  "nbformat_minor": 0,
  "metadata": {
    "colab": {
      "name": "Proyecto Final IC.ipynb",
      "provenance": [],
      "collapsed_sections": [],
      "include_colab_link": true
    },
    "kernelspec": {
      "name": "python3",
      "display_name": "Python 3"
    },
    "language_info": {
      "name": "python"
    },
    "accelerator": "GPU"
  },
  "cells": [
    {
      "cell_type": "markdown",
      "metadata": {
        "id": "view-in-github",
        "colab_type": "text"
      },
      "source": [
        "<a href=\"https://colab.research.google.com/github/Miguel2900/IC/blob/main/Proyecto_Final_IC.ipynb\" target=\"_parent\"><img src=\"https://colab.research.google.com/assets/colab-badge.svg\" alt=\"Open In Colab\"/></a>"
      ]
    },
    {
      "cell_type": "code",
      "execution_count": 16,
      "metadata": {
        "id": "dNbUHtE1jBX-"
      },
      "outputs": [],
      "source": [
        "from tensorflow.keras import Sequential\n",
        "from tensorflow.keras.layers import Dense\n",
        "from tensorflow.keras.layers import Conv2D\n",
        "from tensorflow.keras.layers import MaxPooling2D\n",
        "from tensorflow.keras.layers import Flatten\n",
        "from tensorflow.keras.layers import Dropout\n",
        "from tensorflow.keras.preprocessing.image import ImageDataGenerator\n",
        "\n",
        "from tensorflow.keras.utils import to_categorical\n",
        "\n",
        "from tensorflow.keras.datasets.mnist import load_data as dataNum\n",
        "from tensorflow.keras.datasets.cifar10 import load_data as dataImg\n",
        "\n",
        "import numpy as np\n",
        "import cv2"
      ]
    },
    {
      "cell_type": "code",
      "source": [
        "(numTrnData,numTrnCategories),(numTstData,numTstCategories)=dataNum()\n",
        "(imgTrnData,imgTrnCategories),(imgTstData,imgTstCategories)=dataImg()"
      ],
      "metadata": {
        "id": "6XXqyQKikaKq"
      },
      "execution_count": 17,
      "outputs": []
    },
    {
      "cell_type": "code",
      "source": [
        "numTrnData=numTrnData.reshape(numTrnData.shape[0],28,28,1)\n",
        "numTstData=numTstData.reshape(numTstData.shape[0],28,28,1)\n",
        "numFormat=numTrnData.shape[1:]\n",
        "\n",
        "imgTrnData=np.array([cv2.cvtColor(image, cv2.COLOR_BGR2GRAY) for image in imgTrnData])\n",
        "imgTstData=np.array([cv2.cvtColor(image, cv2.COLOR_BGR2GRAY) for image in imgTstData])\n",
        "imgTrnData=imgTrnData.reshape(imgTrnData.shape[0],32,32,1)\n",
        "imgTstData=imgTstData.reshape(imgTstData.shape[0],32,32,1)\n",
        "imgFormat=imgTrnData.shape[1:]\n",
        "\n",
        "numTstData.reshape(numTstData.shape[0],28,28,1)\n",
        "\n",
        "numTrnData=numTrnData.astype('float32')/255.0\n",
        "numTstData=numTstData.astype('float32')/255.0\n",
        "\n",
        "imgTrnData=imgTrnData.astype('float32')/255.0\n",
        "imgTstData=imgTstData.astype('float32')/255.0"
      ],
      "metadata": {
        "id": "nRId2N5Mki_k"
      },
      "execution_count": 18,
      "outputs": []
    },
    {
      "cell_type": "code",
      "source": [
        "imgTrnData.shape"
      ],
      "metadata": {
        "colab": {
          "base_uri": "https://localhost:8080/"
        },
        "id": "w1p74ipnnX7N",
        "outputId": "21f566a8-b059-41e9-9fe0-5c51cc83f0ef"
      },
      "execution_count": 19,
      "outputs": [
        {
          "output_type": "execute_result",
          "data": {
            "text/plain": [
              "(50000, 32, 32, 1)"
            ]
          },
          "metadata": {},
          "execution_count": 19
        }
      ]
    },
    {
      "cell_type": "code",
      "source": [
        "imgFormat"
      ],
      "metadata": {
        "colab": {
          "base_uri": "https://localhost:8080/"
        },
        "id": "fXi8c-vgsvco",
        "outputId": "6aa3cc02-bb91-42cc-ce73-95bdd38f83fd"
      },
      "execution_count": 20,
      "outputs": [
        {
          "output_type": "execute_result",
          "data": {
            "text/plain": [
              "(32, 32, 1)"
            ]
          },
          "metadata": {},
          "execution_count": 20
        }
      ]
    },
    {
      "cell_type": "code",
      "source": [
        "datagenNum = ImageDataGenerator(\n",
        "    rotation_range = 30,\n",
        "    width_shift_range = 0.25,\n",
        "    height_shift_range = 0.25,\n",
        "    zoom_range=[0.5,1.5],\n",
        ")\n",
        "datagenImg = ImageDataGenerator(\n",
        "    rescale=1./255,\n",
        "    rotation_range=40,\n",
        "    width_shift_range=0.2,\n",
        "    height_shift_range=0.2,\n",
        "    shear_range=0.2,\n",
        "    zoom_range=0.2,\n",
        "    horizontal_flip=True,\n",
        "    fill_mode='nearest'\n",
        ")\n",
        "datagenNum.fit(numTrnData)\n",
        "datagenImg.fit(imgTrnData)\n",
        "\n",
        "numTrnDataDAD = datagenNum.flow(numTrnData, numTrnCategories, batch_size=32)\n",
        "imgTrnDataDAD = datagenImg.flow(imgTrnData, imgTrnCategories, batch_size=32)"
      ],
      "metadata": {
        "id": "AjQfzChBoKSE"
      },
      "execution_count": 21,
      "outputs": []
    },
    {
      "cell_type": "code",
      "source": [
        "numRegular=Sequential([\n",
        "    Flatten(input_shape=(numFormat)), \n",
        "    Dense(units=50, activation='relu',kernel_initializer='he_uniform'),\n",
        "    Dense(units=50, activation='relu',kernel_initializer='he_uniform'),\n",
        "    Dense(10, activation='softmax')\n",
        "])\n",
        "\n",
        "numConv=Sequential([\n",
        "    Conv2D(32,(3,3),activation='relu',kernel_initializer='he_uniform',input_shape=numFormat),\n",
        "    MaxPooling2D(2,2),\n",
        "    Conv2D(64,(3,3),activation='relu',kernel_initializer='he_uniform'),\n",
        "    MaxPooling2D(2,2),\n",
        "    Flatten(),\n",
        "    Dense(100, activation='relu'),\n",
        "    Dense(10, activation='softmax')\n",
        "])\n",
        "\n",
        "numConvDAD=Sequential([\n",
        "    Conv2D(32,(3,3),activation='relu',kernel_initializer='he_uniform',input_shape=numFormat),\n",
        "    MaxPooling2D(2,2),\n",
        "    Conv2D(64,(3,3),activation='relu',kernel_initializer='he_uniform'),\n",
        "    MaxPooling2D(2,2),\n",
        "    Dropout(0.5),\n",
        "    Flatten(),\n",
        "    Dense(100, activation='relu'),\n",
        "    Dense(10, activation='softmax')\n",
        "])\n",
        "\n",
        "numRegular.compile(optimizer='adam',loss='sparse_categorical_crossentropy',metrics=['accuracy'])\n",
        "numConv.compile(optimizer='adam',loss='sparse_categorical_crossentropy',metrics=['accuracy'])\n",
        "numConvDAD.compile(optimizer='adam',loss='sparse_categorical_crossentropy',metrics=['accuracy'])"
      ],
      "metadata": {
        "id": "Xs0P5Ck9oVNb"
      },
      "execution_count": 22,
      "outputs": []
    },
    {
      "cell_type": "code",
      "source": [
        "imgRegular=Sequential([\n",
        "    Flatten(input_shape=(imgFormat)), \n",
        "    Dense(units=50, activation='relu',kernel_initializer='he_uniform'),\n",
        "    Dense(units=50, activation='relu',kernel_initializer='he_uniform'),\n",
        "    Dense(10, activation='softmax')\n",
        "])\n",
        "\n",
        "imgConv=Sequential([\n",
        "    Conv2D(32,(3,3),activation='relu',kernel_initializer='he_uniform',input_shape=imgFormat),\n",
        "    MaxPooling2D(2,2),\n",
        "    Conv2D(64,(3,3),activation='relu',kernel_initializer='he_uniform'),\n",
        "    MaxPooling2D(2,2),\n",
        "    Flatten(),\n",
        "    Dense(100, activation='relu'),\n",
        "    Dense(10, activation='softmax')\n",
        "])\n",
        "\n",
        "imgConvDAD=Sequential([\n",
        "    Conv2D(32,(3,3),activation='relu',kernel_initializer='he_uniform',input_shape=imgFormat),\n",
        "    MaxPooling2D(2,2),\n",
        "    Conv2D(64,(3,3),activation='relu',kernel_initializer='he_uniform'),\n",
        "    MaxPooling2D(2,2),\n",
        "    Conv2D(128,(3,3),activation='relu',kernel_initializer='he_uniform'),\n",
        "    MaxPooling2D(2,2),\n",
        "    Dropout(0.5),\n",
        "    Flatten(),\n",
        "    Dense(100, activation='relu'),\n",
        "    Dense(10, activation='softmax')\n",
        "])\n",
        "\n",
        "imgRegular.compile(optimizer='adam',loss='sparse_categorical_crossentropy',metrics=['accuracy'])\n",
        "imgConv.compile(optimizer='adam',loss='sparse_categorical_crossentropy',metrics=['accuracy'])\n",
        "imgConvDAD.compile(optimizer='adam',loss='sparse_categorical_crossentropy',metrics=['accuracy'])"
      ],
      "metadata": {
        "id": "Hf2lYF7CwFAS"
      },
      "execution_count": 23,
      "outputs": []
    },
    {
      "cell_type": "code",
      "source": [
        "epoch=60\n",
        "batch=128\n",
        "\n",
        "#numRegular.fit(numTrnData,numTrnCategories,validation_split=0.25,epochs=epoch,batch_size=batch,verbose=1,use_multiprocessing=True)\n",
        "#numConv.fit(numTrnData,numTrnCategories,validation_split=0.25,epochs=epoch,batch_size=batch,verbose=1,use_multiprocessing=True)\n",
        "#numConvDAD.fit(numTrnDataDAD,epochs=epoch,batch_size=batch,verbose=1,use_multiprocessing=True)\n",
        "\n",
        "#imgRegular.fit(imgTrnData,imgTrnCategories,validation_split=0.25,epochs=epoch,batch_size=batch,verbose=1,use_multiprocessing=True)\n",
        "#imgConv.fit(imgTrnData,imgTrnCategories,validation_split=0.25,epochs=epoch,batch_size=batch,verbose=1,use_multiprocessing=True)\n",
        "imgConvDAD.fit(imgTrnDataDAD,epochs=epoch,batch_size=batch,verbose=1,use_multiprocessing=True)"
      ],
      "metadata": {
        "id": "wB_iyY0CwrfC",
        "colab": {
          "base_uri": "https://localhost:8080/"
        },
        "outputId": "55a9ebf6-74c9-481b-8378-984b5aef8f53"
      },
      "execution_count": 29,
      "outputs": [
        {
          "output_type": "stream",
          "name": "stdout",
          "text": [
            "Epoch 1/60\n",
            "1563/1563 [==============================] - 20s 13ms/step - loss: 2.3027 - accuracy: 0.1555\n",
            "Epoch 2/60\n",
            "1563/1563 [==============================] - 20s 13ms/step - loss: 2.3027 - accuracy: 0.0064\n",
            "Epoch 3/60\n",
            "1563/1563 [==============================] - 20s 13ms/step - loss: 2.3028 - accuracy: 0.0691\n",
            "Epoch 4/60\n",
            "1563/1563 [==============================] - 20s 13ms/step - loss: 2.3028 - accuracy: 0.0326\n",
            "Epoch 5/60\n",
            "1563/1563 [==============================] - 20s 13ms/step - loss: 2.3028 - accuracy: 0.1837\n",
            "Epoch 6/60\n",
            "1563/1563 [==============================] - 20s 13ms/step - loss: 2.3028 - accuracy: 0.0416\n",
            "Epoch 7/60\n",
            "1563/1563 [==============================] - 20s 13ms/step - loss: 2.3028 - accuracy: 0.0950\n",
            "Epoch 8/60\n",
            "1563/1563 [==============================] - 20s 13ms/step - loss: 2.3028 - accuracy: 0.0538\n",
            "Epoch 9/60\n",
            "1563/1563 [==============================] - 21s 13ms/step - loss: 2.3028 - accuracy: 0.0781\n",
            "Epoch 10/60\n",
            "1563/1563 [==============================] - 20s 13ms/step - loss: 2.3028 - accuracy: 0.1702\n",
            "Epoch 11/60\n",
            "1563/1563 [==============================] - 21s 13ms/step - loss: 2.3028 - accuracy: 0.0698\n",
            "Epoch 12/60\n",
            "1563/1563 [==============================] - 22s 14ms/step - loss: 2.3028 - accuracy: 0.0710\n",
            "Epoch 13/60\n",
            "1563/1563 [==============================] - 22s 14ms/step - loss: 2.3028 - accuracy: 0.0538\n",
            "Epoch 14/60\n",
            "1563/1563 [==============================] - 21s 13ms/step - loss: 2.3027 - accuracy: 0.1114\n",
            "Epoch 15/60\n",
            "1563/1563 [==============================] - 20s 13ms/step - loss: 2.3028 - accuracy: 0.0832\n",
            "Epoch 16/60\n",
            "1563/1563 [==============================] - 20s 13ms/step - loss: 2.3028 - accuracy: 0.0134\n",
            "Epoch 17/60\n",
            "1563/1563 [==============================] - 20s 13ms/step - loss: 2.3028 - accuracy: 0.2739\n",
            "Epoch 18/60\n",
            "1563/1563 [==============================] - 20s 13ms/step - loss: 2.3028 - accuracy: 0.0000e+00\n",
            "Epoch 19/60\n",
            "1563/1563 [==============================] - 20s 13ms/step - loss: 2.3028 - accuracy: 0.1005\n",
            "Epoch 20/60\n",
            "1563/1563 [==============================] - 20s 13ms/step - loss: 2.3027 - accuracy: 0.0211\n",
            "Epoch 21/60\n",
            "1563/1563 [==============================] - 21s 13ms/step - loss: 2.3028 - accuracy: 0.0378\n",
            "Epoch 22/60\n",
            "1563/1563 [==============================] - 20s 13ms/step - loss: 2.3028 - accuracy: 0.1843\n",
            "Epoch 23/60\n",
            "1563/1563 [==============================] - 20s 13ms/step - loss: 2.3028 - accuracy: 0.0672\n",
            "Epoch 24/60\n",
            "1563/1563 [==============================] - 20s 13ms/step - loss: 2.3028 - accuracy: 0.0000e+00\n",
            "Epoch 25/60\n",
            "1563/1563 [==============================] - 20s 13ms/step - loss: 2.3028 - accuracy: 0.1459\n",
            "Epoch 26/60\n",
            "1563/1563 [==============================] - 20s 13ms/step - loss: 2.3028 - accuracy: 0.1376\n",
            "Epoch 27/60\n",
            "1563/1563 [==============================] - 20s 13ms/step - loss: 2.3028 - accuracy: 0.0288\n",
            "Epoch 28/60\n",
            "1563/1563 [==============================] - 20s 13ms/step - loss: 2.3027 - accuracy: 0.0448\n",
            "Epoch 29/60\n",
            "1563/1563 [==============================] - 20s 13ms/step - loss: 2.3028 - accuracy: 6.4000e-04\n",
            "Epoch 30/60\n",
            "1563/1563 [==============================] - 20s 13ms/step - loss: 2.3028 - accuracy: 0.0998\n",
            "Epoch 31/60\n",
            "1563/1563 [==============================] - 20s 13ms/step - loss: 2.3028 - accuracy: 0.1818\n",
            "Epoch 32/60\n",
            "1563/1563 [==============================] - 20s 13ms/step - loss: 2.3028 - accuracy: 0.0320\n",
            "Epoch 33/60\n",
            "1563/1563 [==============================] - 20s 13ms/step - loss: 2.3028 - accuracy: 0.2720\n",
            "Epoch 34/60\n",
            "1563/1563 [==============================] - 21s 13ms/step - loss: 2.3028 - accuracy: 0.1875\n",
            "Epoch 35/60\n",
            "1563/1563 [==============================] - 20s 13ms/step - loss: 2.3028 - accuracy: 0.0768\n",
            "Epoch 36/60\n",
            "1563/1563 [==============================] - 20s 13ms/step - loss: 2.3028 - accuracy: 0.0147\n",
            "Epoch 37/60\n",
            "1563/1563 [==============================] - 20s 13ms/step - loss: 2.3027 - accuracy: 0.1312\n",
            "Epoch 38/60\n",
            "1563/1563 [==============================] - 20s 13ms/step - loss: 2.3028 - accuracy: 0.1466\n",
            "Epoch 39/60\n",
            "1563/1563 [==============================] - 20s 13ms/step - loss: 2.3028 - accuracy: 0.0902\n",
            "Epoch 40/60\n",
            "1563/1563 [==============================] - 20s 13ms/step - loss: 2.3028 - accuracy: 0.0000e+00\n",
            "Epoch 41/60\n",
            "1563/1563 [==============================] - 21s 13ms/step - loss: 2.3028 - accuracy: 0.0224\n",
            "Epoch 42/60\n",
            "1563/1563 [==============================] - 20s 13ms/step - loss: 2.3028 - accuracy: 0.1299\n",
            "Epoch 43/60\n",
            "1563/1563 [==============================] - 20s 13ms/step - loss: 2.3028 - accuracy: 0.0384\n",
            "Epoch 44/60\n",
            "1563/1563 [==============================] - 20s 13ms/step - loss: 2.3028 - accuracy: 0.2138\n",
            "Epoch 45/60\n",
            "1563/1563 [==============================] - 20s 13ms/step - loss: 2.3027 - accuracy: 0.0000e+00\n",
            "Epoch 46/60\n",
            "1563/1563 [==============================] - 20s 13ms/step - loss: 2.3028 - accuracy: 0.0000e+00\n",
            "Epoch 47/60\n",
            "1563/1563 [==============================] - 20s 13ms/step - loss: 2.3028 - accuracy: 0.2461\n",
            "Epoch 48/60\n",
            "1563/1563 [==============================] - 20s 13ms/step - loss: 2.3028 - accuracy: 0.0160\n",
            "Epoch 49/60\n",
            "1563/1563 [==============================] - 20s 13ms/step - loss: 2.3028 - accuracy: 0.0160\n",
            "Epoch 50/60\n",
            "1563/1563 [==============================] - 20s 13ms/step - loss: 2.3028 - accuracy: 0.0544\n",
            "Epoch 51/60\n",
            "1563/1563 [==============================] - 20s 13ms/step - loss: 2.3027 - accuracy: 0.1235\n",
            "Epoch 52/60\n",
            "1563/1563 [==============================] - 20s 13ms/step - loss: 2.3028 - accuracy: 0.0909\n",
            "Epoch 53/60\n",
            "1563/1563 [==============================] - 20s 13ms/step - loss: 2.3028 - accuracy: 0.0262\n",
            "Epoch 54/60\n",
            "1563/1563 [==============================] - 20s 13ms/step - loss: 2.3028 - accuracy: 0.1946\n",
            "Epoch 55/60\n",
            "1563/1563 [==============================] - 20s 13ms/step - loss: 2.3028 - accuracy: 0.1024\n",
            "Epoch 56/60\n",
            "1563/1563 [==============================] - 20s 13ms/step - loss: 2.3028 - accuracy: 0.0198\n",
            "Epoch 57/60\n",
            "1563/1563 [==============================] - 20s 13ms/step - loss: 2.3028 - accuracy: 0.1504\n",
            "Epoch 58/60\n",
            "1563/1563 [==============================] - 20s 13ms/step - loss: 2.3028 - accuracy: 0.0544\n",
            "Epoch 59/60\n",
            "1563/1563 [==============================] - 20s 13ms/step - loss: 2.3028 - accuracy: 0.0000e+00\n",
            "Epoch 60/60\n",
            "1563/1563 [==============================] - 20s 13ms/step - loss: 2.3028 - accuracy: 0.2003\n"
          ]
        },
        {
          "output_type": "execute_result",
          "data": {
            "text/plain": [
              "<keras.callbacks.History at 0x7fee754701d0>"
            ]
          },
          "metadata": {},
          "execution_count": 29
        }
      ]
    },
    {
      "cell_type": "code",
      "source": [
        "#numRegular.evaluate(numTstData,numTstCategories,verbose=1)\n",
        "#numConv.evaluate(numTstData,numTstCategories,verbose=1)\n",
        "#numConvDAD.evaluate(numTstData,numTstCategories,verbose=1)\n",
        "\n",
        "imgRegular.evaluate(imgTstData,imgTstCategories,verbose=1)\n",
        "imgConv.evaluate(imgTstData,imgTstCategories,verbose=1)\n",
        "imgConvDAD.evaluate(imgTstData,imgTstCategories,verbose=1)"
      ],
      "metadata": {
        "id": "UPEntS7I4iBV",
        "colab": {
          "base_uri": "https://localhost:8080/"
        },
        "outputId": "d73d95ee-4543-437a-e53b-ee7d336ca187"
      },
      "execution_count": 28,
      "outputs": [
        {
          "output_type": "stream",
          "name": "stdout",
          "text": [
            "313/313 [==============================] - 1s 3ms/step - loss: 1.7360 - accuracy: 0.3918\n",
            "313/313 [==============================] - 1s 4ms/step - loss: 3.8117 - accuracy: 0.6294\n",
            "313/313 [==============================] - 2s 5ms/step - loss: 80.0221 - accuracy: 0.0000e+00\n"
          ]
        },
        {
          "output_type": "execute_result",
          "data": {
            "text/plain": [
              "[80.02206420898438, 0.0]"
            ]
          },
          "metadata": {},
          "execution_count": 28
        }
      ]
    },
    {
      "cell_type": "code",
      "source": [
        "#numRegular.save('numRegular.h5')\n",
        "#numConv.save('numConv.h5')\n",
        "#numConvDAD.save('numConvDAD.h5')\n",
        "\n",
        "imgRegular.save('imgRegular.h5')\n",
        "imgConv.save('imgConv.h5')\n",
        "imgConvDAD.save('imgConvDAD.h5')"
      ],
      "metadata": {
        "id": "8Q_8uSffeDV1"
      },
      "execution_count": 26,
      "outputs": []
    },
    {
      "cell_type": "code",
      "source": [
        "!pip install tensorflowjs\n",
        "#!mkdir numRegular\n",
        "#!tensorflowjs_converter --input_format keras numRegular.h5 output\n",
        "\n",
        "#!mkdir numConv\n",
        "#!tensorflowjs_converter --input_format keras numConv.h5 numConv\n",
        "\n",
        "#!mkdir numConvDAD\n",
        "#!tensorflowjs_converter --input_format keras numConvDAD.h5 numConvDAD\n",
        "\n",
        "!mkdir imgRegular\n",
        "!tensorflowjs_converter --input_format keras imgRegular.h5 imgRegular\n",
        "\n",
        "!mkdir imgConv\n",
        "!tensorflowjs_converter --input_format keras imgConv.h5 imgConv\n",
        "\n",
        "!mkdir imgConvDAD\n",
        "!tensorflowjs_converter --input_format keras imgConvDAD.h5 imgConvDAD"
      ],
      "metadata": {
        "id": "bLmygDcCeq8C",
        "colab": {
          "base_uri": "https://localhost:8080/"
        },
        "outputId": "6c97503f-5c32-4ab7-adca-31aae5407a32"
      },
      "execution_count": 27,
      "outputs": [
        {
          "output_type": "stream",
          "name": "stdout",
          "text": [
            "Looking in indexes: https://pypi.org/simple, https://us-python.pkg.dev/colab-wheels/public/simple/\n",
            "Requirement already satisfied: tensorflowjs in /usr/local/lib/python3.7/dist-packages (3.18.0)\n",
            "Requirement already satisfied: tensorflow<3,>=2.1.0 in /usr/local/lib/python3.7/dist-packages (from tensorflowjs) (2.8.0+zzzcolab20220506162203)\n",
            "Requirement already satisfied: tensorflow-hub<0.13,>=0.7.0 in /usr/local/lib/python3.7/dist-packages (from tensorflowjs) (0.12.0)\n",
            "Requirement already satisfied: six<2,>=1.12.0 in /usr/local/lib/python3.7/dist-packages (from tensorflowjs) (1.15.0)\n",
            "Requirement already satisfied: packaging~=20.9 in /usr/local/lib/python3.7/dist-packages (from tensorflowjs) (20.9)\n",
            "Requirement already satisfied: pyparsing>=2.0.2 in /usr/local/lib/python3.7/dist-packages (from packaging~=20.9->tensorflowjs) (3.0.9)\n",
            "Requirement already satisfied: absl-py>=0.4.0 in /usr/local/lib/python3.7/dist-packages (from tensorflow<3,>=2.1.0->tensorflowjs) (1.0.0)\n",
            "Requirement already satisfied: keras<2.9,>=2.8.0rc0 in /usr/local/lib/python3.7/dist-packages (from tensorflow<3,>=2.1.0->tensorflowjs) (2.8.0)\n",
            "Requirement already satisfied: setuptools in /usr/local/lib/python3.7/dist-packages (from tensorflow<3,>=2.1.0->tensorflowjs) (57.4.0)\n",
            "Requirement already satisfied: tensorflow-io-gcs-filesystem>=0.23.1 in /usr/local/lib/python3.7/dist-packages (from tensorflow<3,>=2.1.0->tensorflowjs) (0.26.0)\n",
            "Requirement already satisfied: google-pasta>=0.1.1 in /usr/local/lib/python3.7/dist-packages (from tensorflow<3,>=2.1.0->tensorflowjs) (0.2.0)\n",
            "Requirement already satisfied: flatbuffers>=1.12 in /usr/local/lib/python3.7/dist-packages (from tensorflow<3,>=2.1.0->tensorflowjs) (2.0)\n",
            "Requirement already satisfied: tensorboard<2.9,>=2.8 in /usr/local/lib/python3.7/dist-packages (from tensorflow<3,>=2.1.0->tensorflowjs) (2.8.0)\n",
            "Requirement already satisfied: numpy>=1.20 in /usr/local/lib/python3.7/dist-packages (from tensorflow<3,>=2.1.0->tensorflowjs) (1.21.6)\n",
            "Requirement already satisfied: typing-extensions>=3.6.6 in /usr/local/lib/python3.7/dist-packages (from tensorflow<3,>=2.1.0->tensorflowjs) (4.2.0)\n",
            "Requirement already satisfied: astunparse>=1.6.0 in /usr/local/lib/python3.7/dist-packages (from tensorflow<3,>=2.1.0->tensorflowjs) (1.6.3)\n",
            "Requirement already satisfied: libclang>=9.0.1 in /usr/local/lib/python3.7/dist-packages (from tensorflow<3,>=2.1.0->tensorflowjs) (14.0.1)\n",
            "Requirement already satisfied: wrapt>=1.11.0 in /usr/local/lib/python3.7/dist-packages (from tensorflow<3,>=2.1.0->tensorflowjs) (1.14.1)\n",
            "Requirement already satisfied: protobuf>=3.9.2 in /usr/local/lib/python3.7/dist-packages (from tensorflow<3,>=2.1.0->tensorflowjs) (3.17.3)\n",
            "Requirement already satisfied: h5py>=2.9.0 in /usr/local/lib/python3.7/dist-packages (from tensorflow<3,>=2.1.0->tensorflowjs) (3.1.0)\n",
            "Requirement already satisfied: opt-einsum>=2.3.2 in /usr/local/lib/python3.7/dist-packages (from tensorflow<3,>=2.1.0->tensorflowjs) (3.3.0)\n",
            "Requirement already satisfied: termcolor>=1.1.0 in /usr/local/lib/python3.7/dist-packages (from tensorflow<3,>=2.1.0->tensorflowjs) (1.1.0)\n",
            "Requirement already satisfied: tf-estimator-nightly==2.8.0.dev2021122109 in /usr/local/lib/python3.7/dist-packages (from tensorflow<3,>=2.1.0->tensorflowjs) (2.8.0.dev2021122109)\n",
            "Requirement already satisfied: keras-preprocessing>=1.1.1 in /usr/local/lib/python3.7/dist-packages (from tensorflow<3,>=2.1.0->tensorflowjs) (1.1.2)\n",
            "Requirement already satisfied: grpcio<2.0,>=1.24.3 in /usr/local/lib/python3.7/dist-packages (from tensorflow<3,>=2.1.0->tensorflowjs) (1.46.1)\n",
            "Requirement already satisfied: gast>=0.2.1 in /usr/local/lib/python3.7/dist-packages (from tensorflow<3,>=2.1.0->tensorflowjs) (0.5.3)\n",
            "Requirement already satisfied: wheel<1.0,>=0.23.0 in /usr/local/lib/python3.7/dist-packages (from astunparse>=1.6.0->tensorflow<3,>=2.1.0->tensorflowjs) (0.37.1)\n",
            "Requirement already satisfied: cached-property in /usr/local/lib/python3.7/dist-packages (from h5py>=2.9.0->tensorflow<3,>=2.1.0->tensorflowjs) (1.5.2)\n",
            "Requirement already satisfied: tensorboard-plugin-wit>=1.6.0 in /usr/local/lib/python3.7/dist-packages (from tensorboard<2.9,>=2.8->tensorflow<3,>=2.1.0->tensorflowjs) (1.8.1)\n",
            "Requirement already satisfied: werkzeug>=0.11.15 in /usr/local/lib/python3.7/dist-packages (from tensorboard<2.9,>=2.8->tensorflow<3,>=2.1.0->tensorflowjs) (1.0.1)\n",
            "Requirement already satisfied: google-auth-oauthlib<0.5,>=0.4.1 in /usr/local/lib/python3.7/dist-packages (from tensorboard<2.9,>=2.8->tensorflow<3,>=2.1.0->tensorflowjs) (0.4.6)\n",
            "Requirement already satisfied: requests<3,>=2.21.0 in /usr/local/lib/python3.7/dist-packages (from tensorboard<2.9,>=2.8->tensorflow<3,>=2.1.0->tensorflowjs) (2.23.0)\n",
            "Requirement already satisfied: google-auth<3,>=1.6.3 in /usr/local/lib/python3.7/dist-packages (from tensorboard<2.9,>=2.8->tensorflow<3,>=2.1.0->tensorflowjs) (1.35.0)\n",
            "Requirement already satisfied: tensorboard-data-server<0.7.0,>=0.6.0 in /usr/local/lib/python3.7/dist-packages (from tensorboard<2.9,>=2.8->tensorflow<3,>=2.1.0->tensorflowjs) (0.6.1)\n",
            "Requirement already satisfied: markdown>=2.6.8 in /usr/local/lib/python3.7/dist-packages (from tensorboard<2.9,>=2.8->tensorflow<3,>=2.1.0->tensorflowjs) (3.3.7)\n",
            "Requirement already satisfied: pyasn1-modules>=0.2.1 in /usr/local/lib/python3.7/dist-packages (from google-auth<3,>=1.6.3->tensorboard<2.9,>=2.8->tensorflow<3,>=2.1.0->tensorflowjs) (0.2.8)\n",
            "Requirement already satisfied: cachetools<5.0,>=2.0.0 in /usr/local/lib/python3.7/dist-packages (from google-auth<3,>=1.6.3->tensorboard<2.9,>=2.8->tensorflow<3,>=2.1.0->tensorflowjs) (4.2.4)\n",
            "Requirement already satisfied: rsa<5,>=3.1.4 in /usr/local/lib/python3.7/dist-packages (from google-auth<3,>=1.6.3->tensorboard<2.9,>=2.8->tensorflow<3,>=2.1.0->tensorflowjs) (4.8)\n",
            "Requirement already satisfied: requests-oauthlib>=0.7.0 in /usr/local/lib/python3.7/dist-packages (from google-auth-oauthlib<0.5,>=0.4.1->tensorboard<2.9,>=2.8->tensorflow<3,>=2.1.0->tensorflowjs) (1.3.1)\n",
            "Requirement already satisfied: importlib-metadata>=4.4 in /usr/local/lib/python3.7/dist-packages (from markdown>=2.6.8->tensorboard<2.9,>=2.8->tensorflow<3,>=2.1.0->tensorflowjs) (4.11.3)\n",
            "Requirement already satisfied: zipp>=0.5 in /usr/local/lib/python3.7/dist-packages (from importlib-metadata>=4.4->markdown>=2.6.8->tensorboard<2.9,>=2.8->tensorflow<3,>=2.1.0->tensorflowjs) (3.8.0)\n",
            "Requirement already satisfied: pyasn1<0.5.0,>=0.4.6 in /usr/local/lib/python3.7/dist-packages (from pyasn1-modules>=0.2.1->google-auth<3,>=1.6.3->tensorboard<2.9,>=2.8->tensorflow<3,>=2.1.0->tensorflowjs) (0.4.8)\n",
            "Requirement already satisfied: idna<3,>=2.5 in /usr/local/lib/python3.7/dist-packages (from requests<3,>=2.21.0->tensorboard<2.9,>=2.8->tensorflow<3,>=2.1.0->tensorflowjs) (2.10)\n",
            "Requirement already satisfied: chardet<4,>=3.0.2 in /usr/local/lib/python3.7/dist-packages (from requests<3,>=2.21.0->tensorboard<2.9,>=2.8->tensorflow<3,>=2.1.0->tensorflowjs) (3.0.4)\n",
            "Requirement already satisfied: urllib3!=1.25.0,!=1.25.1,<1.26,>=1.21.1 in /usr/local/lib/python3.7/dist-packages (from requests<3,>=2.21.0->tensorboard<2.9,>=2.8->tensorflow<3,>=2.1.0->tensorflowjs) (1.24.3)\n",
            "Requirement already satisfied: certifi>=2017.4.17 in /usr/local/lib/python3.7/dist-packages (from requests<3,>=2.21.0->tensorboard<2.9,>=2.8->tensorflow<3,>=2.1.0->tensorflowjs) (2022.5.18.1)\n",
            "Requirement already satisfied: oauthlib>=3.0.0 in /usr/local/lib/python3.7/dist-packages (from requests-oauthlib>=0.7.0->google-auth-oauthlib<0.5,>=0.4.1->tensorboard<2.9,>=2.8->tensorflow<3,>=2.1.0->tensorflowjs) (3.2.0)\n",
            "mkdir: cannot create directory ‘imgRegular’: File exists\n",
            "mkdir: cannot create directory ‘imgConv’: File exists\n",
            "mkdir: cannot create directory ‘imgConvDAD’: File exists\n"
          ]
        }
      ]
    }
  ]
}